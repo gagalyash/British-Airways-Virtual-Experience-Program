{
 "cells": [
  {
   "cell_type": "markdown",
   "metadata": {},
   "source": [
    "# Task 1\n",
    "\n",
    "---\n",
    "\n",
    "## Web scraping and analysis\n",
    "\n",
    "This Jupyter notebook includes some code to get you started with web scraping. We will use a package called `BeautifulSoup` to collect the data from the web. Once you've collected your data and saved it into a local `.csv` file you should start with your analysis.\n",
    "\n",
    "### Scraping data from Skytrax\n",
    "\n",
    "If you visit [https://www.airlinequality.com] you can see that there is a lot of data there. For this task, we are only interested in reviews related to British Airways and the Airline itself.\n",
    "\n",
    "If you navigate to this link: [https://www.airlinequality.com/airline-reviews/british-airways] you will see this data. Now, we can use `Python` and `BeautifulSoup` to collect all the links to the reviews and then to collect the text data on each of the individual review links."
   ]
  },
  {
   "cell_type": "code",
   "execution_count": 1,
   "metadata": {},
   "outputs": [],
   "source": [
    "# Necessary Libraries \n",
    "import requests\n",
    "from bs4 import BeautifulSoup\n",
    "import pandas as pd\n",
    "import re\n",
    "import seaborn as sns\n",
    "import matplotlib.pyplot as plt\n",
    "%matplotlib inline"
   ]
  },
  {
   "cell_type": "code",
   "execution_count": 2,
   "metadata": {},
   "outputs": [
    {
     "name": "stdout",
     "output_type": "stream",
     "text": [
      "Scraping page 1\n",
      "   ---> 100 total reviews\n",
      "Scraping page 2\n",
      "   ---> 200 total reviews\n",
      "Scraping page 3\n",
      "   ---> 300 total reviews\n",
      "Scraping page 4\n",
      "   ---> 400 total reviews\n",
      "Scraping page 5\n",
      "   ---> 500 total reviews\n",
      "Scraping page 6\n",
      "   ---> 600 total reviews\n",
      "Scraping page 7\n",
      "   ---> 700 total reviews\n",
      "Scraping page 8\n",
      "   ---> 800 total reviews\n",
      "Scraping page 9\n",
      "   ---> 900 total reviews\n",
      "Scraping page 10\n",
      "   ---> 1000 total reviews\n"
     ]
    }
   ],
   "source": [
    "base_url = \"https://www.airlinequality.com/airline-reviews/british-airways\"\n",
    "pages = 10\n",
    "page_size = 100\n",
    "\n",
    "reviews = []\n",
    "\n",
    "for i in range(1, pages + 1):\n",
    "\n",
    "    print(f\"Scraping page {i}\")\n",
    "\n",
    "    # Create URL to collect links from paginated data\n",
    "    url = f\"{base_url}/page/{i}/?sortby=post_date%3ADesc&pagesize={page_size}\"\n",
    "\n",
    "    # Collect HTML data from this page\n",
    "    response = requests.get(url)\n",
    "\n",
    "    # Parse content\n",
    "    content = response.content\n",
    "    parsed_content = BeautifulSoup(content, 'html.parser')\n",
    "    for para in parsed_content.find_all(\"div\", {\"class\": \"text_content\"}):\n",
    "        reviews.append(para.get_text())\n",
    "    \n",
    "    print(f\"   ---> {len(reviews)} total reviews\")"
   ]
  },
  {
   "cell_type": "code",
   "execution_count": 3,
   "metadata": {},
   "outputs": [
    {
     "data": {
      "text/html": [
       "<div>\n",
       "<style scoped>\n",
       "    .dataframe tbody tr th:only-of-type {\n",
       "        vertical-align: middle;\n",
       "    }\n",
       "\n",
       "    .dataframe tbody tr th {\n",
       "        vertical-align: top;\n",
       "    }\n",
       "\n",
       "    .dataframe thead th {\n",
       "        text-align: right;\n",
       "    }\n",
       "</style>\n",
       "<table border=\"1\" class=\"dataframe\">\n",
       "  <thead>\n",
       "    <tr style=\"text-align: right;\">\n",
       "      <th></th>\n",
       "      <th>reviews</th>\n",
       "    </tr>\n",
       "  </thead>\n",
       "  <tbody>\n",
       "    <tr>\n",
       "      <th>0</th>\n",
       "      <td>Not Verified |  Booked a flight return flight ...</td>\n",
       "    </tr>\n",
       "    <tr>\n",
       "      <th>1</th>\n",
       "      <td>✅ Trip Verified |  I tried to check in on line...</td>\n",
       "    </tr>\n",
       "    <tr>\n",
       "      <th>2</th>\n",
       "      <td>✅ Trip Verified |  A catalogue of failures. We...</td>\n",
       "    </tr>\n",
       "    <tr>\n",
       "      <th>3</th>\n",
       "      <td>✅ Trip Verified |  \\r\\nOur flight out to Dubro...</td>\n",
       "    </tr>\n",
       "    <tr>\n",
       "      <th>4</th>\n",
       "      <td>Not Verified |  If I could give a minus rating...</td>\n",
       "    </tr>\n",
       "  </tbody>\n",
       "</table>\n",
       "</div>"
      ],
      "text/plain": [
       "                                             reviews\n",
       "0  Not Verified |  Booked a flight return flight ...\n",
       "1  ✅ Trip Verified |  I tried to check in on line...\n",
       "2  ✅ Trip Verified |  A catalogue of failures. We...\n",
       "3  ✅ Trip Verified |  \\r\\nOur flight out to Dubro...\n",
       "4  Not Verified |  If I could give a minus rating..."
      ]
     },
     "execution_count": 3,
     "metadata": {},
     "output_type": "execute_result"
    }
   ],
   "source": [
    "# Convert raw data into pandas dataframe\n",
    "data = pd.DataFrame()\n",
    "data[\"reviews\"] = reviews\n",
    "data.head()"
   ]
  },
  {
   "cell_type": "code",
   "execution_count": 4,
   "metadata": {},
   "outputs": [],
   "source": [
    "# Convert dataset into csv\n",
    "data.to_csv(\"BA_reviews.csv\")"
   ]
  },
  {
   "cell_type": "markdown",
   "metadata": {},
   "source": [
    " The next thing that we should do is clean this data to remove any unnecessary text from each of the rows. For example, \"✅ Trip Verified\" can be removed from each row if it exists, as it's not relevant to what we want to investigate."
   ]
  },
  {
   "cell_type": "code",
   "execution_count": 5,
   "metadata": {},
   "outputs": [
    {
     "data": {
      "text/html": [
       "<div>\n",
       "<style scoped>\n",
       "    .dataframe tbody tr th:only-of-type {\n",
       "        vertical-align: middle;\n",
       "    }\n",
       "\n",
       "    .dataframe tbody tr th {\n",
       "        vertical-align: top;\n",
       "    }\n",
       "\n",
       "    .dataframe thead th {\n",
       "        text-align: right;\n",
       "    }\n",
       "</style>\n",
       "<table border=\"1\" class=\"dataframe\">\n",
       "  <thead>\n",
       "    <tr style=\"text-align: right;\">\n",
       "      <th></th>\n",
       "      <th>Unnamed: 0</th>\n",
       "      <th>reviews</th>\n",
       "    </tr>\n",
       "  </thead>\n",
       "  <tbody>\n",
       "    <tr>\n",
       "      <th>0</th>\n",
       "      <td>0</td>\n",
       "      <td>Not Verified |  Booked a flight return flight ...</td>\n",
       "    </tr>\n",
       "    <tr>\n",
       "      <th>1</th>\n",
       "      <td>1</td>\n",
       "      <td>✅ Trip Verified |  I tried to check in on line...</td>\n",
       "    </tr>\n",
       "    <tr>\n",
       "      <th>2</th>\n",
       "      <td>2</td>\n",
       "      <td>✅ Trip Verified |  A catalogue of failures. We...</td>\n",
       "    </tr>\n",
       "    <tr>\n",
       "      <th>3</th>\n",
       "      <td>3</td>\n",
       "      <td>✅ Trip Verified |  \\r\\nOur flight out to Dubro...</td>\n",
       "    </tr>\n",
       "    <tr>\n",
       "      <th>4</th>\n",
       "      <td>4</td>\n",
       "      <td>Not Verified |  If I could give a minus rating...</td>\n",
       "    </tr>\n",
       "  </tbody>\n",
       "</table>\n",
       "</div>"
      ],
      "text/plain": [
       "   Unnamed: 0                                            reviews\n",
       "0           0  Not Verified |  Booked a flight return flight ...\n",
       "1           1  ✅ Trip Verified |  I tried to check in on line...\n",
       "2           2  ✅ Trip Verified |  A catalogue of failures. We...\n",
       "3           3  ✅ Trip Verified |  \\r\\nOur flight out to Dubro...\n",
       "4           4  Not Verified |  If I could give a minus rating..."
      ]
     },
     "execution_count": 5,
     "metadata": {},
     "output_type": "execute_result"
    }
   ],
   "source": [
    "# Read the dataset\n",
    "data = pd.read_csv(\"BA_reviews.csv\")\n",
    "data.head()"
   ]
  },
  {
   "cell_type": "code",
   "execution_count": 6,
   "metadata": {},
   "outputs": [
    {
     "data": {
      "text/plain": [
       "(1000, 2)"
      ]
     },
     "execution_count": 6,
     "metadata": {},
     "output_type": "execute_result"
    }
   ],
   "source": [
    "# Check shape of dataframe\n",
    "data.shape"
   ]
  },
  {
   "cell_type": "code",
   "execution_count": 7,
   "metadata": {},
   "outputs": [
    {
     "name": "stdout",
     "output_type": "stream",
     "text": [
      "<class 'pandas.core.frame.DataFrame'>\n",
      "RangeIndex: 1000 entries, 0 to 999\n",
      "Data columns (total 2 columns):\n",
      " #   Column      Non-Null Count  Dtype \n",
      "---  ------      --------------  ----- \n",
      " 0   Unnamed: 0  1000 non-null   int64 \n",
      " 1   reviews     1000 non-null   object\n",
      "dtypes: int64(1), object(1)\n",
      "memory usage: 15.8+ KB\n"
     ]
    }
   ],
   "source": [
    "# Check information about dataframe\n",
    "data.info()"
   ]
  },
  {
   "cell_type": "code",
   "execution_count": 8,
   "metadata": {},
   "outputs": [],
   "source": [
    "# Drop Unnecessary Column\n",
    "data.drop(columns='Unnamed: 0', axis=1, inplace=True)"
   ]
  },
  {
   "cell_type": "code",
   "execution_count": 9,
   "metadata": {},
   "outputs": [
    {
     "data": {
      "text/plain": [
       "'Not Verified |  Booked a flight return flight between London and Munich for 3/11 to 3/17 in December. The return flight was cancelled and re-booked from 3/17 to 3/12. British Airways only notified me of the first change, but not the second. Getting the flight reinstated took multiple phone calls on both occasions. Each time needing to find a helpful representative. British Airway employees told me that even though they cancelled my flight they did not have to refund the ticket. They tried to charge an $800 change fee. Through repeatedly calling back, British Airways reinstated my 3/17 flight on 2/20 and then again on 3/6. To make sure it did not get changed again, i checked the status of my ticket daily from 3/12 to 3/15. It was intact those days. On 3/16 when it was time to check-in for the flight, it was gone. At the airport the staff at the British Airways check-in counter are not BA employees, so cannot help resolve problems. There are no BA representative at the Munich Airport. The confirmation documentation from British Airways was of no value. I was left stranded at the airport.'"
      ]
     },
     "execution_count": 9,
     "metadata": {},
     "output_type": "execute_result"
    }
   ],
   "source": [
    "# Check the first review\n",
    "data['reviews'].loc[0]"
   ]
  },
  {
   "cell_type": "code",
   "execution_count": 10,
   "metadata": {},
   "outputs": [],
   "source": [
    "# Split the trip verified string\n",
    "data.reviews = data.reviews.str.split('|', expand=True)[1]"
   ]
  },
  {
   "cell_type": "code",
   "execution_count": 11,
   "metadata": {},
   "outputs": [
    {
     "data": {
      "text/html": [
       "<div>\n",
       "<style scoped>\n",
       "    .dataframe tbody tr th:only-of-type {\n",
       "        vertical-align: middle;\n",
       "    }\n",
       "\n",
       "    .dataframe tbody tr th {\n",
       "        vertical-align: top;\n",
       "    }\n",
       "\n",
       "    .dataframe thead th {\n",
       "        text-align: right;\n",
       "    }\n",
       "</style>\n",
       "<table border=\"1\" class=\"dataframe\">\n",
       "  <thead>\n",
       "    <tr style=\"text-align: right;\">\n",
       "      <th></th>\n",
       "      <th>reviews</th>\n",
       "    </tr>\n",
       "  </thead>\n",
       "  <tbody>\n",
       "    <tr>\n",
       "      <th>0</th>\n",
       "      <td>Booked a flight return flight between London...</td>\n",
       "    </tr>\n",
       "    <tr>\n",
       "      <th>1</th>\n",
       "      <td>I tried to check in on line and was informed...</td>\n",
       "    </tr>\n",
       "    <tr>\n",
       "      <th>2</th>\n",
       "      <td>A catalogue of failures. We flew from Belfas...</td>\n",
       "    </tr>\n",
       "    <tr>\n",
       "      <th>3</th>\n",
       "      <td>\\r\\nOur flight out to Dubrovnik was at the p...</td>\n",
       "    </tr>\n",
       "    <tr>\n",
       "      <th>4</th>\n",
       "      <td>If I could give a minus rating, I would. Sup...</td>\n",
       "    </tr>\n",
       "    <tr>\n",
       "      <th>...</th>\n",
       "      <td>...</td>\n",
       "    </tr>\n",
       "    <tr>\n",
       "      <th>995</th>\n",
       "      <td>Dubai to London Heathrow. Lovely flight and ...</td>\n",
       "    </tr>\n",
       "    <tr>\n",
       "      <th>996</th>\n",
       "      <td>London Heathrow to Singapore on 28 May 2018....</td>\n",
       "    </tr>\n",
       "    <tr>\n",
       "      <th>997</th>\n",
       "      <td>Paris to Newark, flight cancelled. This expe...</td>\n",
       "    </tr>\n",
       "    <tr>\n",
       "      <th>998</th>\n",
       "      <td>I flew BA from Heraklion to Gatwick. I bough...</td>\n",
       "    </tr>\n",
       "    <tr>\n",
       "      <th>999</th>\n",
       "      <td>Outbound from LHR to Washington on a refurbi...</td>\n",
       "    </tr>\n",
       "  </tbody>\n",
       "</table>\n",
       "<p>1000 rows × 1 columns</p>\n",
       "</div>"
      ],
      "text/plain": [
       "                                               reviews\n",
       "0      Booked a flight return flight between London...\n",
       "1      I tried to check in on line and was informed...\n",
       "2      A catalogue of failures. We flew from Belfas...\n",
       "3      \\r\\nOur flight out to Dubrovnik was at the p...\n",
       "4      If I could give a minus rating, I would. Sup...\n",
       "..                                                 ...\n",
       "995    Dubai to London Heathrow. Lovely flight and ...\n",
       "996    London Heathrow to Singapore on 28 May 2018....\n",
       "997    Paris to Newark, flight cancelled. This expe...\n",
       "998    I flew BA from Heraklion to Gatwick. I bough...\n",
       "999    Outbound from LHR to Washington on a refurbi...\n",
       "\n",
       "[1000 rows x 1 columns]"
      ]
     },
     "execution_count": 11,
     "metadata": {},
     "output_type": "execute_result"
    }
   ],
   "source": [
    "data"
   ]
  },
  {
   "cell_type": "code",
   "execution_count": 12,
   "metadata": {},
   "outputs": [
    {
     "data": {
      "text/html": [
       "<div>\n",
       "<style scoped>\n",
       "    .dataframe tbody tr th:only-of-type {\n",
       "        vertical-align: middle;\n",
       "    }\n",
       "\n",
       "    .dataframe tbody tr th {\n",
       "        vertical-align: top;\n",
       "    }\n",
       "\n",
       "    .dataframe thead th {\n",
       "        text-align: right;\n",
       "    }\n",
       "</style>\n",
       "<table border=\"1\" class=\"dataframe\">\n",
       "  <thead>\n",
       "    <tr style=\"text-align: right;\">\n",
       "      <th></th>\n",
       "      <th>reviews</th>\n",
       "      <th>clean_reviews</th>\n",
       "    </tr>\n",
       "  </thead>\n",
       "  <tbody>\n",
       "    <tr>\n",
       "      <th>0</th>\n",
       "      <td>Booked a flight return flight between London...</td>\n",
       "      <td>Booked a flight return flight between London ...</td>\n",
       "    </tr>\n",
       "    <tr>\n",
       "      <th>1</th>\n",
       "      <td>I tried to check in on line and was informed...</td>\n",
       "      <td>I tried to check in on line and was informed ...</td>\n",
       "    </tr>\n",
       "    <tr>\n",
       "      <th>2</th>\n",
       "      <td>A catalogue of failures. We flew from Belfas...</td>\n",
       "      <td>A catalogue of failures We flew from Belfast ...</td>\n",
       "    </tr>\n",
       "    <tr>\n",
       "      <th>3</th>\n",
       "      <td>\\r\\nOur flight out to Dubrovnik was at the p...</td>\n",
       "      <td>Our flight out to Dubrovnik was at the painfu...</td>\n",
       "    </tr>\n",
       "    <tr>\n",
       "      <th>4</th>\n",
       "      <td>If I could give a minus rating, I would. Sup...</td>\n",
       "      <td>If I could give a minus rating I would Suppos...</td>\n",
       "    </tr>\n",
       "  </tbody>\n",
       "</table>\n",
       "</div>"
      ],
      "text/plain": [
       "                                             reviews  \\\n",
       "0    Booked a flight return flight between London...   \n",
       "1    I tried to check in on line and was informed...   \n",
       "2    A catalogue of failures. We flew from Belfas...   \n",
       "3    \\r\\nOur flight out to Dubrovnik was at the p...   \n",
       "4    If I could give a minus rating, I would. Sup...   \n",
       "\n",
       "                                       clean_reviews  \n",
       "0   Booked a flight return flight between London ...  \n",
       "1   I tried to check in on line and was informed ...  \n",
       "2   A catalogue of failures We flew from Belfast ...  \n",
       "3   Our flight out to Dubrovnik was at the painfu...  \n",
       "4   If I could give a minus rating I would Suppos...  "
      ]
     },
     "execution_count": 12,
     "metadata": {},
     "output_type": "execute_result"
    }
   ],
   "source": [
    "# Function to clean text\n",
    "def clean(text):\n",
    "    # Remove all special characters & numbers except alphabets\n",
    "    text = re.sub('[^A-Za-z]+', ' ', str(text))\n",
    "    return text\n",
    "\n",
    "data['clean_reviews'] = data['reviews'].apply(clean)\n",
    "data.head()"
   ]
  },
  {
   "cell_type": "code",
   "execution_count": 13,
   "metadata": {},
   "outputs": [
    {
     "name": "stderr",
     "output_type": "stream",
     "text": [
      "[nltk_data] Downloading package punkt to\n",
      "[nltk_data]     C:\\Users\\yashg\\AppData\\Roaming\\nltk_data...\n",
      "[nltk_data]   Package punkt is already up-to-date!\n",
      "[nltk_data] Downloading package stopwords to\n",
      "[nltk_data]     C:\\Users\\yashg\\AppData\\Roaming\\nltk_data...\n",
      "[nltk_data]   Package stopwords is already up-to-date!\n",
      "[nltk_data] Downloading package wordnet to\n",
      "[nltk_data]     C:\\Users\\yashg\\AppData\\Roaming\\nltk_data...\n",
      "[nltk_data]   Package wordnet is already up-to-date!\n",
      "[nltk_data] Downloading package omw-1.4 to\n",
      "[nltk_data]     C:\\Users\\yashg\\AppData\\Roaming\\nltk_data...\n",
      "[nltk_data]   Package omw-1.4 is already up-to-date!\n",
      "[nltk_data] Downloading package averaged_perceptron_tagger to\n",
      "[nltk_data]     C:\\Users\\yashg\\AppData\\Roaming\\nltk_data...\n",
      "[nltk_data]   Package averaged_perceptron_tagger is already up-to-\n",
      "[nltk_data]       date!\n"
     ]
    }
   ],
   "source": [
    "import nltk\n",
    "\n",
    "nltk.download('punkt')\n",
    "nltk.download('stopwords')\n",
    "nltk.download('wordnet')\n",
    "nltk.download('omw-1.4')\n",
    "nltk.download('averaged_perceptron_tagger')\n",
    "\n",
    "from nltk.tokenize import word_tokenize\n",
    "from nltk import pos_tag\n",
    "from nltk.corpus import stopwords\n",
    "from nltk.corpus import wordnet\n",
    "from nltk.stem import WordNetLemmatizer\n",
    "from wordcloud import WordCloud, STOPWORDS"
   ]
  },
  {
   "cell_type": "code",
   "execution_count": 14,
   "metadata": {},
   "outputs": [],
   "source": [
    "# POS Tagger Dictionary\n",
    "pos_dict = {'A':wordnet.ADJ, 'V':wordnet.VERB, 'N':wordnet.NOUN, 'R':wordnet.ADV}\n",
    "\n",
    "def token_stop_pos(text):\n",
    "    tags = pos_tag(word_tokenize(text))\n",
    "    \n",
    "    new_list = []\n",
    "    for word, tag in tags:\n",
    "        if word.lower() not in set(stopwords.words('english')):\n",
    "            new_list.append(tuple([word, pos_dict.get(tag[0])]))\n",
    "    return new_list"
   ]
  },
  {
   "cell_type": "code",
   "execution_count": 15,
   "metadata": {},
   "outputs": [
    {
     "data": {
      "text/html": [
       "<div>\n",
       "<style scoped>\n",
       "    .dataframe tbody tr th:only-of-type {\n",
       "        vertical-align: middle;\n",
       "    }\n",
       "\n",
       "    .dataframe tbody tr th {\n",
       "        vertical-align: top;\n",
       "    }\n",
       "\n",
       "    .dataframe thead th {\n",
       "        text-align: right;\n",
       "    }\n",
       "</style>\n",
       "<table border=\"1\" class=\"dataframe\">\n",
       "  <thead>\n",
       "    <tr style=\"text-align: right;\">\n",
       "      <th></th>\n",
       "      <th>reviews</th>\n",
       "      <th>clean_reviews</th>\n",
       "      <th>POS Tagged</th>\n",
       "    </tr>\n",
       "  </thead>\n",
       "  <tbody>\n",
       "    <tr>\n",
       "      <th>0</th>\n",
       "      <td>Booked a flight return flight between London...</td>\n",
       "      <td>Booked a flight return flight between London ...</td>\n",
       "      <td>[(Booked, v), (flight, n), (return, n), (fligh...</td>\n",
       "    </tr>\n",
       "    <tr>\n",
       "      <th>1</th>\n",
       "      <td>I tried to check in on line and was informed...</td>\n",
       "      <td>I tried to check in on line and was informed ...</td>\n",
       "      <td>[(tried, v), (check, v), (line, n), (informed,...</td>\n",
       "    </tr>\n",
       "    <tr>\n",
       "      <th>2</th>\n",
       "      <td>A catalogue of failures. We flew from Belfas...</td>\n",
       "      <td>A catalogue of failures We flew from Belfast ...</td>\n",
       "      <td>[(catalogue, n), (failures, n), (flew, v), (Be...</td>\n",
       "    </tr>\n",
       "    <tr>\n",
       "      <th>3</th>\n",
       "      <td>\\r\\nOur flight out to Dubrovnik was at the p...</td>\n",
       "      <td>Our flight out to Dubrovnik was at the painfu...</td>\n",
       "      <td>[(flight, n), (Dubrovnik, n), (painful, None),...</td>\n",
       "    </tr>\n",
       "    <tr>\n",
       "      <th>4</th>\n",
       "      <td>If I could give a minus rating, I would. Sup...</td>\n",
       "      <td>If I could give a minus rating I would Suppos...</td>\n",
       "      <td>[(could, None), (give, v), (minus, n), (rating...</td>\n",
       "    </tr>\n",
       "  </tbody>\n",
       "</table>\n",
       "</div>"
      ],
      "text/plain": [
       "                                             reviews  \\\n",
       "0    Booked a flight return flight between London...   \n",
       "1    I tried to check in on line and was informed...   \n",
       "2    A catalogue of failures. We flew from Belfas...   \n",
       "3    \\r\\nOur flight out to Dubrovnik was at the p...   \n",
       "4    If I could give a minus rating, I would. Sup...   \n",
       "\n",
       "                                       clean_reviews  \\\n",
       "0   Booked a flight return flight between London ...   \n",
       "1   I tried to check in on line and was informed ...   \n",
       "2   A catalogue of failures We flew from Belfast ...   \n",
       "3   Our flight out to Dubrovnik was at the painfu...   \n",
       "4   If I could give a minus rating I would Suppos...   \n",
       "\n",
       "                                          POS Tagged  \n",
       "0  [(Booked, v), (flight, n), (return, n), (fligh...  \n",
       "1  [(tried, v), (check, v), (line, n), (informed,...  \n",
       "2  [(catalogue, n), (failures, n), (flew, v), (Be...  \n",
       "3  [(flight, n), (Dubrovnik, n), (painful, None),...  \n",
       "4  [(could, None), (give, v), (minus, n), (rating...  "
      ]
     },
     "execution_count": 15,
     "metadata": {},
     "output_type": "execute_result"
    }
   ],
   "source": [
    "data['POS Tagged'] = data['clean_reviews'].apply(token_stop_pos)\n",
    "data.head()"
   ]
  },
  {
   "cell_type": "code",
   "execution_count": 16,
   "metadata": {},
   "outputs": [],
   "source": [
    "# Obtaining the stem words – Lemmatization\n",
    "lemmatizer = WordNetLemmatizer()\n",
    "def lemmatize(pos_data):\n",
    "    lemma_rev = \" \"\n",
    "    for word, pos in pos_data:\n",
    "     if not pos:\n",
    "        lemma = word\n",
    "        lemma_rev = lemma_rev + \" \" + lemma\n",
    "     else:\n",
    "        lemma = lemmatizer.lemmatize(word, pos=pos)\n",
    "        lemma_rev = lemma_rev + \" \" + lemma\n",
    "    return lemma_rev"
   ]
  },
  {
   "cell_type": "code",
   "execution_count": 17,
   "metadata": {},
   "outputs": [
    {
     "data": {
      "text/html": [
       "<div>\n",
       "<style scoped>\n",
       "    .dataframe tbody tr th:only-of-type {\n",
       "        vertical-align: middle;\n",
       "    }\n",
       "\n",
       "    .dataframe tbody tr th {\n",
       "        vertical-align: top;\n",
       "    }\n",
       "\n",
       "    .dataframe thead th {\n",
       "        text-align: right;\n",
       "    }\n",
       "</style>\n",
       "<table border=\"1\" class=\"dataframe\">\n",
       "  <thead>\n",
       "    <tr style=\"text-align: right;\">\n",
       "      <th></th>\n",
       "      <th>reviews</th>\n",
       "      <th>clean_reviews</th>\n",
       "      <th>POS Tagged</th>\n",
       "      <th>lemma_rev</th>\n",
       "    </tr>\n",
       "  </thead>\n",
       "  <tbody>\n",
       "    <tr>\n",
       "      <th>0</th>\n",
       "      <td>Booked a flight return flight between London...</td>\n",
       "      <td>Booked a flight return flight between London ...</td>\n",
       "      <td>[(Booked, v), (flight, n), (return, n), (fligh...</td>\n",
       "      <td>Booked flight return flight London Munich De...</td>\n",
       "    </tr>\n",
       "    <tr>\n",
       "      <th>1</th>\n",
       "      <td>I tried to check in on line and was informed...</td>\n",
       "      <td>I tried to check in on line and was informed ...</td>\n",
       "      <td>[(tried, v), (check, v), (line, n), (informed,...</td>\n",
       "      <td>try check line inform possible give reason t...</td>\n",
       "    </tr>\n",
       "    <tr>\n",
       "      <th>2</th>\n",
       "      <td>A catalogue of failures. We flew from Belfas...</td>\n",
       "      <td>A catalogue of failures We flew from Belfast ...</td>\n",
       "      <td>[(catalogue, n), (failures, n), (flew, v), (Be...</td>\n",
       "      <td>catalogue failure fly Belfast Heathrow week ...</td>\n",
       "    </tr>\n",
       "    <tr>\n",
       "      <th>3</th>\n",
       "      <td>\\r\\nOur flight out to Dubrovnik was at the p...</td>\n",
       "      <td>Our flight out to Dubrovnik was at the painfu...</td>\n",
       "      <td>[(flight, n), (Dubrovnik, n), (painful, None),...</td>\n",
       "      <td>flight Dubrovnik painful time morning London...</td>\n",
       "    </tr>\n",
       "    <tr>\n",
       "      <th>4</th>\n",
       "      <td>If I could give a minus rating, I would. Sup...</td>\n",
       "      <td>If I could give a minus rating I would Suppos...</td>\n",
       "      <td>[(could, None), (give, v), (minus, n), (rating...</td>\n",
       "      <td>could give minus rating would Supposed LHR A...</td>\n",
       "    </tr>\n",
       "  </tbody>\n",
       "</table>\n",
       "</div>"
      ],
      "text/plain": [
       "                                             reviews  \\\n",
       "0    Booked a flight return flight between London...   \n",
       "1    I tried to check in on line and was informed...   \n",
       "2    A catalogue of failures. We flew from Belfas...   \n",
       "3    \\r\\nOur flight out to Dubrovnik was at the p...   \n",
       "4    If I could give a minus rating, I would. Sup...   \n",
       "\n",
       "                                       clean_reviews  \\\n",
       "0   Booked a flight return flight between London ...   \n",
       "1   I tried to check in on line and was informed ...   \n",
       "2   A catalogue of failures We flew from Belfast ...   \n",
       "3   Our flight out to Dubrovnik was at the painfu...   \n",
       "4   If I could give a minus rating I would Suppos...   \n",
       "\n",
       "                                          POS Tagged  \\\n",
       "0  [(Booked, v), (flight, n), (return, n), (fligh...   \n",
       "1  [(tried, v), (check, v), (line, n), (informed,...   \n",
       "2  [(catalogue, n), (failures, n), (flew, v), (Be...   \n",
       "3  [(flight, n), (Dubrovnik, n), (painful, None),...   \n",
       "4  [(could, None), (give, v), (minus, n), (rating...   \n",
       "\n",
       "                                           lemma_rev  \n",
       "0    Booked flight return flight London Munich De...  \n",
       "1    try check line inform possible give reason t...  \n",
       "2    catalogue failure fly Belfast Heathrow week ...  \n",
       "3    flight Dubrovnik painful time morning London...  \n",
       "4    could give minus rating would Supposed LHR A...  "
      ]
     },
     "execution_count": 17,
     "metadata": {},
     "output_type": "execute_result"
    }
   ],
   "source": [
    "data['lemma_rev'] = data['POS Tagged'].apply(lemmatize)\n",
    "data.head()"
   ]
  },
  {
   "cell_type": "code",
   "execution_count": 18,
   "metadata": {},
   "outputs": [
    {
     "data": {
      "text/plain": [
       "'  Booked flight return flight London Munich December return flight cancel book British Airways notify first change second Getting flight reinstate take multiple phone call occasion time need find helpful representative British Airway employee tell even though cancel flight refund ticket try charge change fee repeatedly call back British Airways reinstate flight make sure get change check status ticket daily intact day time check flight go airport staff British Airways check counter BA employee help resolve problem BA representative Munich Airport confirmation documentation British Airways value leave strand airport'"
      ]
     },
     "execution_count": 18,
     "metadata": {},
     "output_type": "execute_result"
    }
   ],
   "source": [
    "data['lemma_rev'][0]"
   ]
  },
  {
   "cell_type": "code",
   "execution_count": 19,
   "metadata": {},
   "outputs": [
    {
     "data": {
      "text/plain": [
       "' Booked a flight return flight between London and Munich for to in December The return flight was cancelled and re booked from to British Airways only notified me of the first change but not the second Getting the flight reinstated took multiple phone calls on both occasions Each time needing to find a helpful representative British Airway employees told me that even though they cancelled my flight they did not have to refund the ticket They tried to charge an change fee Through repeatedly calling back British Airways reinstated my flight on and then again on To make sure it did not get changed again i checked the status of my ticket daily from to It was intact those days On when it was time to check in for the flight it was gone At the airport the staff at the British Airways check in counter are not BA employees so cannot help resolve problems There are no BA representative at the Munich Airport The confirmation documentation from British Airways was of no value I was left stranded at the airport '"
      ]
     },
     "execution_count": 19,
     "metadata": {},
     "output_type": "execute_result"
    }
   ],
   "source": [
    "data['clean_reviews'][0]"
   ]
  },
  {
   "cell_type": "code",
   "execution_count": 20,
   "metadata": {},
   "outputs": [
    {
     "name": "stdout",
     "output_type": "stream",
     "text": [
      "Requirement already satisfied: vaderSentiment in c:\\python3.9\\lib\\site-packages (3.3.2)\n",
      "Requirement already satisfied: requests in c:\\python3.9\\lib\\site-packages (from vaderSentiment) (2.27.1)\n",
      "Requirement already satisfied: charset-normalizer~=2.0.0 in c:\\python3.9\\lib\\site-packages (from requests->vaderSentiment) (2.0.12)\n",
      "Requirement already satisfied: idna<4,>=2.5 in c:\\python3.9\\lib\\site-packages (from requests->vaderSentiment) (3.3)\n",
      "Requirement already satisfied: urllib3<1.27,>=1.21.1 in c:\\python3.9\\lib\\site-packages (from requests->vaderSentiment) (1.26.8)\n",
      "Requirement already satisfied: certifi>=2017.4.17 in c:\\python3.9\\lib\\site-packages (from requests->vaderSentiment) (2021.10.8)\n"
     ]
    },
    {
     "name": "stderr",
     "output_type": "stream",
     "text": [
      "WARNING: Ignoring invalid distribution -pencv-python (c:\\python3.9\\lib\\site-packages)\n",
      "WARNING: Ignoring invalid distribution -pencv-python (c:\\python3.9\\lib\\site-packages)\n",
      "WARNING: Ignoring invalid distribution -pencv-python (c:\\python3.9\\lib\\site-packages)\n",
      "WARNING: Ignoring invalid distribution -pencv-python (c:\\python3.9\\lib\\site-packages)\n",
      "WARNING: Ignoring invalid distribution -pencv-python (c:\\python3.9\\lib\\site-packages)\n",
      "WARNING: Ignoring invalid distribution -pencv-python (c:\\python3.9\\lib\\site-packages)\n",
      "WARNING: You are using pip version 22.0.4; however, version 23.0.1 is available.\n",
      "You should consider upgrading via the 'C:\\Python3.9\\python.exe -m pip install --upgrade pip' command.\n"
     ]
    }
   ],
   "source": [
    "!pip install vaderSentiment"
   ]
  },
  {
   "cell_type": "markdown",
   "metadata": {},
   "source": [
    "# Sentiment Analysis using VADER\n",
    "\n",
    "VADER stands for Valence Aware Dictionary and Sentiment Reasoner.\n",
    "\n",
    "Vader sentiment not only tells if the statement is positive or negative along with the intensity of emotion."
   ]
  },
  {
   "cell_type": "code",
   "execution_count": 21,
   "metadata": {},
   "outputs": [],
   "source": [
    "from vaderSentiment.vaderSentiment import SentimentIntensityAnalyzer\n",
    "Analyzer = SentimentIntensityAnalyzer()"
   ]
  },
  {
   "cell_type": "code",
   "execution_count": 22,
   "metadata": {},
   "outputs": [],
   "source": [
    "# Function to calculate vader sentiment\n",
    "def sentiment_scores(review):\n",
    "    ss = Analyzer.polarity_scores(review)\n",
    "    return ss['compound']\n",
    "\n",
    "data['Sentiment'] = data['lemma_rev'].apply(sentiment_scores)\n",
    "\n",
    "# Function to analyse the sentiment\n",
    "def sentiment_analysis(compound):\n",
    "    if compound >= 0.5:\n",
    "        return 'Positive'\n",
    "    elif compound < 0:\n",
    "        return 'Negative'\n",
    "    else:\n",
    "        return 'Neutral'"
   ]
  },
  {
   "cell_type": "code",
   "execution_count": 23,
   "metadata": {},
   "outputs": [
    {
     "data": {
      "text/html": [
       "<div>\n",
       "<style scoped>\n",
       "    .dataframe tbody tr th:only-of-type {\n",
       "        vertical-align: middle;\n",
       "    }\n",
       "\n",
       "    .dataframe tbody tr th {\n",
       "        vertical-align: top;\n",
       "    }\n",
       "\n",
       "    .dataframe thead th {\n",
       "        text-align: right;\n",
       "    }\n",
       "</style>\n",
       "<table border=\"1\" class=\"dataframe\">\n",
       "  <thead>\n",
       "    <tr style=\"text-align: right;\">\n",
       "      <th></th>\n",
       "      <th>reviews</th>\n",
       "      <th>clean_reviews</th>\n",
       "      <th>POS Tagged</th>\n",
       "      <th>lemma_rev</th>\n",
       "      <th>Sentiment</th>\n",
       "      <th>Review</th>\n",
       "    </tr>\n",
       "  </thead>\n",
       "  <tbody>\n",
       "    <tr>\n",
       "      <th>0</th>\n",
       "      <td>Booked a flight return flight between London...</td>\n",
       "      <td>Booked a flight return flight between London ...</td>\n",
       "      <td>[(Booked, v), (flight, n), (return, n), (fligh...</td>\n",
       "      <td>Booked flight return flight London Munich De...</td>\n",
       "      <td>0.7717</td>\n",
       "      <td>Positive</td>\n",
       "    </tr>\n",
       "    <tr>\n",
       "      <th>1</th>\n",
       "      <td>I tried to check in on line and was informed...</td>\n",
       "      <td>I tried to check in on line and was informed ...</td>\n",
       "      <td>[(tried, v), (check, v), (line, n), (informed,...</td>\n",
       "      <td>try check line inform possible give reason t...</td>\n",
       "      <td>-0.5423</td>\n",
       "      <td>Negative</td>\n",
       "    </tr>\n",
       "    <tr>\n",
       "      <th>2</th>\n",
       "      <td>A catalogue of failures. We flew from Belfas...</td>\n",
       "      <td>A catalogue of failures We flew from Belfast ...</td>\n",
       "      <td>[(catalogue, n), (failures, n), (flew, v), (Be...</td>\n",
       "      <td>catalogue failure fly Belfast Heathrow week ...</td>\n",
       "      <td>-0.9022</td>\n",
       "      <td>Negative</td>\n",
       "    </tr>\n",
       "    <tr>\n",
       "      <th>3</th>\n",
       "      <td>\\r\\nOur flight out to Dubrovnik was at the p...</td>\n",
       "      <td>Our flight out to Dubrovnik was at the painfu...</td>\n",
       "      <td>[(flight, n), (Dubrovnik, n), (painful, None),...</td>\n",
       "      <td>flight Dubrovnik painful time morning London...</td>\n",
       "      <td>0.9938</td>\n",
       "      <td>Positive</td>\n",
       "    </tr>\n",
       "    <tr>\n",
       "      <th>4</th>\n",
       "      <td>If I could give a minus rating, I would. Sup...</td>\n",
       "      <td>If I could give a minus rating I would Suppos...</td>\n",
       "      <td>[(could, None), (give, v), (minus, n), (rating...</td>\n",
       "      <td>could give minus rating would Supposed LHR A...</td>\n",
       "      <td>-0.3612</td>\n",
       "      <td>Negative</td>\n",
       "    </tr>\n",
       "    <tr>\n",
       "      <th>5</th>\n",
       "      <td>Plane was over an hour late leaving, no probl...</td>\n",
       "      <td>Plane was over an hour late leaving no proble...</td>\n",
       "      <td>[(Plane, n), (hour, n), (late, None), (leaving...</td>\n",
       "      <td>Plane hour late leaving problem happen arriv...</td>\n",
       "      <td>-0.2960</td>\n",
       "      <td>Negative</td>\n",
       "    </tr>\n",
       "    <tr>\n",
       "      <th>6</th>\n",
       "      <td>We were flying World Traveller Plus their Pr...</td>\n",
       "      <td>We were flying World Traveller Plus their Pre...</td>\n",
       "      <td>[(flying, v), (World, n), (Traveller, n), (Plu...</td>\n",
       "      <td>fly World Traveller Plus Premium service Pre...</td>\n",
       "      <td>-0.9081</td>\n",
       "      <td>Negative</td>\n",
       "    </tr>\n",
       "    <tr>\n",
       "      <th>7</th>\n",
       "      <td>This was literally one of the worst experien...</td>\n",
       "      <td>This was literally one of the worst experienc...</td>\n",
       "      <td>[(literally, r), (one, None), (worst, None), (...</td>\n",
       "      <td>literally one worst experience airport since...</td>\n",
       "      <td>-0.8555</td>\n",
       "      <td>Negative</td>\n",
       "    </tr>\n",
       "    <tr>\n",
       "      <th>8</th>\n",
       "      <td>The usual shambolic unfolding that BA has no...</td>\n",
       "      <td>The usual shambolic unfolding that BA has now...</td>\n",
       "      <td>[(usual, None), (shambolic, n), (unfolding, v)...</td>\n",
       "      <td>usual shambolic unfold BA unfortunately come...</td>\n",
       "      <td>-0.4215</td>\n",
       "      <td>Negative</td>\n",
       "    </tr>\n",
       "    <tr>\n",
       "      <th>9</th>\n",
       "      <td>Lost my case and took 6 weeks to locate it a...</td>\n",
       "      <td>Lost my case and took weeks to locate it and ...</td>\n",
       "      <td>[(Lost, v), (case, n), (took, v), (weeks, n), ...</td>\n",
       "      <td>Lost case take week locate still reply week ...</td>\n",
       "      <td>-0.3903</td>\n",
       "      <td>Negative</td>\n",
       "    </tr>\n",
       "  </tbody>\n",
       "</table>\n",
       "</div>"
      ],
      "text/plain": [
       "                                             reviews  \\\n",
       "0    Booked a flight return flight between London...   \n",
       "1    I tried to check in on line and was informed...   \n",
       "2    A catalogue of failures. We flew from Belfas...   \n",
       "3    \\r\\nOur flight out to Dubrovnik was at the p...   \n",
       "4    If I could give a minus rating, I would. Sup...   \n",
       "5   Plane was over an hour late leaving, no probl...   \n",
       "6    We were flying World Traveller Plus their Pr...   \n",
       "7    This was literally one of the worst experien...   \n",
       "8    The usual shambolic unfolding that BA has no...   \n",
       "9    Lost my case and took 6 weeks to locate it a...   \n",
       "\n",
       "                                       clean_reviews  \\\n",
       "0   Booked a flight return flight between London ...   \n",
       "1   I tried to check in on line and was informed ...   \n",
       "2   A catalogue of failures We flew from Belfast ...   \n",
       "3   Our flight out to Dubrovnik was at the painfu...   \n",
       "4   If I could give a minus rating I would Suppos...   \n",
       "5   Plane was over an hour late leaving no proble...   \n",
       "6   We were flying World Traveller Plus their Pre...   \n",
       "7   This was literally one of the worst experienc...   \n",
       "8   The usual shambolic unfolding that BA has now...   \n",
       "9   Lost my case and took weeks to locate it and ...   \n",
       "\n",
       "                                          POS Tagged  \\\n",
       "0  [(Booked, v), (flight, n), (return, n), (fligh...   \n",
       "1  [(tried, v), (check, v), (line, n), (informed,...   \n",
       "2  [(catalogue, n), (failures, n), (flew, v), (Be...   \n",
       "3  [(flight, n), (Dubrovnik, n), (painful, None),...   \n",
       "4  [(could, None), (give, v), (minus, n), (rating...   \n",
       "5  [(Plane, n), (hour, n), (late, None), (leaving...   \n",
       "6  [(flying, v), (World, n), (Traveller, n), (Plu...   \n",
       "7  [(literally, r), (one, None), (worst, None), (...   \n",
       "8  [(usual, None), (shambolic, n), (unfolding, v)...   \n",
       "9  [(Lost, v), (case, n), (took, v), (weeks, n), ...   \n",
       "\n",
       "                                           lemma_rev  Sentiment    Review  \n",
       "0    Booked flight return flight London Munich De...     0.7717  Positive  \n",
       "1    try check line inform possible give reason t...    -0.5423  Negative  \n",
       "2    catalogue failure fly Belfast Heathrow week ...    -0.9022  Negative  \n",
       "3    flight Dubrovnik painful time morning London...     0.9938  Positive  \n",
       "4    could give minus rating would Supposed LHR A...    -0.3612  Negative  \n",
       "5    Plane hour late leaving problem happen arriv...    -0.2960  Negative  \n",
       "6    fly World Traveller Plus Premium service Pre...    -0.9081  Negative  \n",
       "7    literally one worst experience airport since...    -0.8555  Negative  \n",
       "8    usual shambolic unfold BA unfortunately come...    -0.4215  Negative  \n",
       "9    Lost case take week locate still reply week ...    -0.3903  Negative  "
      ]
     },
     "execution_count": 23,
     "metadata": {},
     "output_type": "execute_result"
    }
   ],
   "source": [
    "data['Review'] = data['Sentiment'].apply(sentiment_analysis)\n",
    "data.head(10)"
   ]
  },
  {
   "cell_type": "code",
   "execution_count": 24,
   "metadata": {},
   "outputs": [
    {
     "data": {
      "text/plain": [
       "Positive    528\n",
       "Negative    363\n",
       "Neutral     109\n",
       "Name: Review, dtype: int64"
      ]
     },
     "execution_count": 24,
     "metadata": {},
     "output_type": "execute_result"
    }
   ],
   "source": [
    "# Check value_count on Review column\n",
    "review_count = data['Review'].value_counts()\n",
    "review_count"
   ]
  },
  {
   "cell_type": "code",
   "execution_count": 25,
   "metadata": {},
   "outputs": [
    {
     "data": {
      "image/png": "[encoded data removed]",
      "text/plain": [
       "<Figure size 864x432 with 1 Axes>"
      ]
     },
     "metadata": {
      "needs_background": "light"
     },
     "output_type": "display_data"
    }
   ],
   "source": [
    "# Review Countplot\n",
    "plt.figure(figsize=(12,6))\n",
    "plt.title('Review Count');\n",
    "sns.countplot(x=data['Review'], data=data, palette='rainbow');"
   ]
  },
  {
   "cell_type": "code",
   "execution_count": 26,
   "metadata": {},
   "outputs": [
    {
     "data": {
      "image/png": "[encoded data removed]",
      "text/plain": [
       "<Figure size 864x432 with 1 Axes>"
      ]
     },
     "metadata": {
      "needs_background": "light"
     },
     "output_type": "display_data"
    }
   ],
   "source": [
    "stopwords = set(STOPWORDS)\n",
    "\n",
    "# Function to generate stopwords\n",
    "def show_wordcloud(data):\n",
    "    wordcloud = WordCloud(max_words=150,\n",
    "                          background_color='black',\n",
    "                          max_font_size=30,\n",
    "                          stopwords=stopwords,\n",
    "                          scale=4,\n",
    "                          random_state=1)\n",
    "    wordcloud = wordcloud.generate(str(data))\n",
    "    \n",
    "    plt.figure(figsize=(12,6))\n",
    "    plt.axis('off')\n",
    "    plt.title('StopWords')\n",
    "    plt.imshow(wordcloud)\n",
    "    plt.show()\n",
    "    \n",
    "show_wordcloud(data.lemma_rev)"
   ]
  },
  {
   "cell_type": "code",
   "execution_count": null,
   "metadata": {},
   "outputs": [],
   "source": []
  }
 ],
 "metadata": {
  "kernelspec": {
   "display_name": "Python 3 (ipykernel)",
   "language": "python",
   "name": "python3"
  },
  "language_info": {
   "codemirror_mode": {
    "name": "ipython",
    "version": 3
   },
   "file_extension": ".py",
   "mimetype": "text/x-python",
   "name": "python",
   "nbconvert_exporter": "python",
   "pygments_lexer": "ipython3",
   "version": "3.9.10"
  },
  "vscode": {
   "interpreter": {
    "hash": "4f7924c4c56b083e0e50eadfe7ef592a7a8ef70df33a0047f82280e6be1afe15"
   }
  }
 },
 "nbformat": 4,
 "nbformat_minor": 2
}
